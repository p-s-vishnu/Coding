{
  "nbformat": 4,
  "nbformat_minor": 0,
  "metadata": {
    "colab": {
      "name": "graph.ipynb",
      "provenance": [],
      "authorship_tag": "ABX9TyPnsFpFDtpCfNTCgy8xpLu2",
      "include_colab_link": true
    },
    "kernelspec": {
      "name": "python3",
      "display_name": "Python 3"
    },
    "language_info": {
      "name": "python"
    }
  },
  "cells": [
    {
      "cell_type": "markdown",
      "metadata": {
        "id": "view-in-github",
        "colab_type": "text"
      },
      "source": [
        "<a href=\"https://colab.research.google.com/github/p-s-vishnu/Coding/blob/grokking/graph.ipynb\" target=\"_parent\"><img src=\"https://colab.research.google.com/assets/colab-badge.svg\" alt=\"Open In Colab\"/></a>"
      ]
    },
    {
      "cell_type": "markdown",
      "metadata": {
        "id": "HYPJ9WT1iuDj"
      },
      "source": [
        "# Graphs\n",
        "\n",
        "Representations\n",
        "1. Adjacency List\n",
        "2. Adjacency Matrix"
      ]
    },
    {
      "cell_type": "code",
      "metadata": {
        "id": "vEOer2VclbYs"
      },
      "source": [
        "import pprint\n",
        "pp = pprint.PrettyPrinter(indent=4)"
      ],
      "execution_count": 10,
      "outputs": []
    },
    {
      "cell_type": "markdown",
      "metadata": {
        "id": "t5V0RoJ4H9YG"
      },
      "source": [
        "## Class - Graph, Edge, Node\n"
      ]
    },
    {
      "cell_type": "code",
      "metadata": {
        "id": "3Sr3QB4vIFPH"
      },
      "source": [
        "# Udacity\n",
        "\n",
        "class Node(object):\n",
        "    def __init__(self, value):\n",
        "        self.value = value\n",
        "        self.edges = []\n",
        "\n",
        "class Edge(object):\n",
        "    def __init__(self, value, node_from:Node, node_to:Node):\n",
        "        self.value = value   # to represent weighted graphs\n",
        "        self.node_from = node_from\n",
        "        self.node_to = node_to\n",
        "\n",
        "class Graph:\n",
        "    def __init__(self, nodes=[], edges=[]):\n",
        "        self.nodes = nodes\n",
        "        self.edges = edges\n",
        "\n",
        "    def insert_node(self, new_node_val):\n",
        "        new_node = Node(new_node_val)\n",
        "        self.nodes.append(new_node)\n",
        "        \n",
        "    def insert_edge(self, new_edge_val, node_from_val, node_to_val):\n",
        "        from_found = None\n",
        "        to_found = None\n",
        "        for node in self.nodes:\n",
        "            if node_from_val == node.value:\n",
        "                from_found = node\n",
        "            if node_to_val == node.value:\n",
        "                to_found = node\n",
        "        if from_found == None:\n",
        "            from_found = Node(node_from_val)\n",
        "            self.nodes.append(from_found)\n",
        "        if to_found == None:\n",
        "            to_found = Node(node_to_val)\n",
        "            self.nodes.append(to_found)\n",
        "        new_edge = Edge(new_edge_val, from_found, to_found)\n",
        "        from_found.edges.append(new_edge)\n",
        "        to_found.edges.append(new_edge)\n",
        "        self.edges.append(new_edge)\n",
        "\n",
        "    def get_edge_list(self):\n",
        "        return [(e.value, e.node_from, e.node_to) for e in self.edges]\n",
        "\n",
        "    def get_adjacency_list(self):\n",
        "      \"\"\"(To Node, Edge Value)\n",
        "      \"\"\"\n",
        "        max_index = self.find_max_index()\n",
        "        adjacency_list = [None] * (max_index + 1)\n",
        "        for edge_object in self.edges:\n",
        "            if adjacency_list[edge_object.node_from.value]:\n",
        "                adjacency_list[edge_object.node_from.value].append((edge_object.node_to.value, edge_object.value))\n",
        "            else:\n",
        "                adjacency_list[edge_object.node_from.value] = [(edge_object.node_to.value, edge_object.value)]\n",
        "        return adjacency_list\n",
        "\n",
        "    def get_adjacency_matrix(self):\n",
        "        max_index = self.find_max_index()\n",
        "        adjacency_matrix = [[0 for i in range(max_index + 1)] for j in range(max_index + 1)]\n",
        "        for edge_object in self.edges:\n",
        "            adjacency_matrix[edge_object.node_from.value][edge_object.node_to.value] = edge_object.value\n",
        "        return adjacency_matrix\n",
        "\n",
        "    def find_max_index(self):\n",
        "        max_index = -1\n",
        "        if len(self.nodes):\n",
        "            for node in self.nodes:\n",
        "                if node.value > max_index:\n",
        "                    max_index = node.value\n",
        "        return max_index"
      ],
      "execution_count": 18,
      "outputs": []
    },
    {
      "cell_type": "markdown",
      "metadata": {
        "id": "vI-pseBdju0z"
      },
      "source": [
        "## Adjacency List\n",
        "\n",
        "Adjacency List can be represented as a List of List, where each inner list is used to represent the edges.\n",
        "\n",
        "```python\n",
        "[\n",
        " [1],\n",
        " [0,2,3],\n",
        " [1,3],\n",
        " [1,2]\n",
        "]\n",
        "\n",
        "```\n",
        "\n",
        "> Edge List is another representation which is also a `List[List]` but the inner list here represents the connection. \n",
        "```python\n",
        "[ [0,3], [1,2],[2,3] ]\n",
        "```"
      ]
    },
    {
      "cell_type": "code",
      "metadata": {
        "colab": {
          "base_uri": "https://localhost:8080/"
        },
        "id": "x0KSrd6Vidlw",
        "outputId": "e7cd7db6-78e8-4927-8b40-7d9cc9a7d23c"
      },
      "source": [
        "from collections import defaultdict\n",
        "\n",
        "# In case of weighted graph [[(1,1)], [(0,1), (2,1), (3,1)]...]\n",
        "graphs = [[1],[0,2,3],[1,3],[1,2]]\n",
        "\n",
        "d = defaultdict(list)\n",
        "for i in range(len(graphs)):\n",
        "  d[i] = graphs[i]\n",
        "pp.pprint(d)"
      ],
      "execution_count": 17,
      "outputs": [
        {
          "output_type": "stream",
          "name": "stdout",
          "text": [
            "defaultdict(<class 'list'>, {0: [1], 1: [0, 2, 3], 2: [1, 3], 3: [1, 2]})\n"
          ]
        }
      ]
    },
    {
      "cell_type": "markdown",
      "metadata": {
        "id": "XL42JQmAq3uS"
      },
      "source": [
        "## Adjacency Matrix"
      ]
    },
    {
      "cell_type": "code",
      "metadata": {
        "id": "0FXKJOmoWWti"
      },
      "source": [
        ""
      ],
      "execution_count": null,
      "outputs": []
    },
    {
      "cell_type": "markdown",
      "metadata": {
        "id": "84TfHk-WWa8t"
      },
      "source": [
        "## Graph traversal\n",
        "\n",
        "1. DFS, Time: O(E + V), Space: O(V)\n",
        "\n",
        "- Use a Stack to note Seen elements\n",
        "\n",
        "2. BFS, Time: O(E + V), Space: O(V)\n",
        "\n",
        "- Use a queue. Analogous to creating a tree where starting node becomes the root. "
      ]
    },
    {
      "cell_type": "code",
      "metadata": {
        "id": "3sRR34fcW2-5"
      },
      "source": [
        ""
      ],
      "execution_count": null,
      "outputs": []
    }
  ]
}