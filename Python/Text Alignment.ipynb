{
 "cells": [
  {
   "cell_type": "code",
   "execution_count": 19,
   "metadata": {
    "scrolled": true
   },
   "outputs": [
    {
     "name": "stdout",
     "output_type": "stream",
     "text": [
      "    H    \n",
      "   HHH   \n",
      "  HHHHH  \n",
      " HHHHHHH \n",
      "HHHHHHHHH\n",
      "  HHHHH               HHHHH             \n",
      "  HHHHH               HHHHH             \n",
      "  HHHHH               HHHHH             \n",
      "  HHHHH               HHHHH             \n",
      "  HHHHH               HHHHH             \n",
      "  HHHHH               HHHHH             \n",
      "  HHHHHHHHHHHHHHHHHHHHHHHHH   \n",
      "  HHHHHHHHHHHHHHHHHHHHHHHHH   \n",
      "  HHHHHHHHHHHHHHHHHHHHHHHHH   \n",
      "  HHHHH               HHHHH             \n",
      "  HHHHH               HHHHH             \n",
      "  HHHHH               HHHHH             \n",
      "  HHHHH               HHHHH             \n",
      "  HHHHH               HHHHH             \n",
      "  HHHHH               HHHHH             \n",
      "                    HHHHHHHHH \n",
      "                     HHHHHHH  \n",
      "                      HHHHH   \n",
      "                       HHH    \n",
      "                        H     \n"
     ]
    }
   ],
   "source": [
    "def draw_pattern(thickness):\n",
    "    c = 'H'\n",
    "    #Top Cone\n",
    "    for i in range(thickness):\n",
    "        print((c*i).rjust(thickness-1)+c+(c*i).ljust(thickness-1))\n",
    "\n",
    "    #Top Pillars\n",
    "    for i in range(thickness+1):\n",
    "        print((c*thickness).center(thickness*2)+(c*thickness).center(thickness*6))\n",
    "\n",
    "    #Middle Belt\n",
    "    for i in range((thickness+1)//2):\n",
    "        print((c*thickness*5).center(thickness*6))    \n",
    "\n",
    "    #Bottom Pillars\n",
    "    for i in range(thickness+1):\n",
    "        print((c*thickness).center(thickness*2)+(c*thickness).center(thickness*6))    \n",
    "\n",
    "    #Bottom Cone\n",
    "    for i in range(thickness):\n",
    "        print(((c*(thickness-i-1)).rjust(thickness)+c+(c*(thickness-i-1)).ljust(thickness)).rjust(thickness*6))\n",
    "\n",
    "\n",
    "# thickness = int(input()) #This must be an odd number\n",
    "thickness = 5\n",
    "draw_pattern(thickness)"
   ]
  },
  {
   "cell_type": "code",
   "execution_count": 20,
   "metadata": {},
   "outputs": [
    {
     "name": "stdout",
     "output_type": "stream",
     "text": [
      "        H        \n",
      "       HHH       \n",
      "      HHHHH      \n",
      "     HHHHHHH     \n",
      "    HHHHHHHHH    \n",
      "   HHHHHHHHHHH   \n",
      "  HHHHHHHHHHHHH  \n",
      " HHHHHHHHHHHHHHH \n",
      "HHHHHHHHHHHHHHHHH\n",
      "    HHHHHHHHH                           HHHHHHHHH                       \n",
      "    HHHHHHHHH                           HHHHHHHHH                       \n",
      "    HHHHHHHHH                           HHHHHHHHH                       \n",
      "    HHHHHHHHH                           HHHHHHHHH                       \n",
      "    HHHHHHHHH                           HHHHHHHHH                       \n",
      "    HHHHHHHHH                           HHHHHHHHH                       \n",
      "    HHHHHHHHH                           HHHHHHHHH                       \n",
      "    HHHHHHHHH                           HHHHHHHHH                       \n",
      "    HHHHHHHHH                           HHHHHHHHH                       \n",
      "    HHHHHHHHH                           HHHHHHHHH                       \n",
      "    HHHHHHHHHHHHHHHHHHHHHHHHHHHHHHHHHHHHHHHHHHHHH     \n",
      "    HHHHHHHHHHHHHHHHHHHHHHHHHHHHHHHHHHHHHHHHHHHHH     \n",
      "    HHHHHHHHHHHHHHHHHHHHHHHHHHHHHHHHHHHHHHHHHHHHH     \n",
      "    HHHHHHHHHHHHHHHHHHHHHHHHHHHHHHHHHHHHHHHHHHHHH     \n",
      "    HHHHHHHHHHHHHHHHHHHHHHHHHHHHHHHHHHHHHHHHHHHHH     \n",
      "    HHHHHHHHH                           HHHHHHHHH                       \n",
      "    HHHHHHHHH                           HHHHHHHHH                       \n",
      "    HHHHHHHHH                           HHHHHHHHH                       \n",
      "    HHHHHHHHH                           HHHHHHHHH                       \n",
      "    HHHHHHHHH                           HHHHHHHHH                       \n",
      "    HHHHHHHHH                           HHHHHHHHH                       \n",
      "    HHHHHHHHH                           HHHHHHHHH                       \n",
      "    HHHHHHHHH                           HHHHHHHHH                       \n",
      "    HHHHHHHHH                           HHHHHHHHH                       \n",
      "    HHHHHHHHH                           HHHHHHHHH                       \n",
      "                                    HHHHHHHHHHHHHHHHH \n",
      "                                     HHHHHHHHHHHHHHH  \n",
      "                                      HHHHHHHHHHHHH   \n",
      "                                       HHHHHHHHHHH    \n",
      "                                        HHHHHHHHH     \n",
      "                                         HHHHHHH      \n",
      "                                          HHHHH       \n",
      "                                           HHH        \n",
      "                                            H         \n"
     ]
    }
   ],
   "source": [
    "draw_pattern(9)"
   ]
  }
 ],
 "metadata": {
  "kernelspec": {
   "display_name": "Python 3",
   "language": "python",
   "name": "python3"
  },
  "language_info": {
   "codemirror_mode": {
    "name": "ipython",
    "version": 3
   },
   "file_extension": ".py",
   "mimetype": "text/x-python",
   "name": "python",
   "nbconvert_exporter": "python",
   "pygments_lexer": "ipython3",
   "version": "3.7.0"
  }
 },
 "nbformat": 4,
 "nbformat_minor": 2
}
